{
 "cells": [
  {
   "cell_type": "code",
   "execution_count": null,
   "id": "c0ba0aa2",
   "metadata": {},
   "outputs": [],
   "source": [
    "# Import library modules here\n",
    "from analysis_library.diabetes_analysis_library.load_data import load_data\n",
    "from analysis_library.diabetes_analysis_library.model import  train, predict \n",
    "from analysis_library.diabetes_analysis_library.preprocessor_1 import preprocessor_data_remove\n",
    "from analysis_library.diabetes_analysis_library.preprocessor_2 import preprocessor_data \n",
    "from analysis_library.diabetes_analysis_library.transform import transform\n"
   ]
  },
  {
   "cell_type": "code",
   "execution_count": null,
   "id": "df9cdf62",
   "metadata": {},
   "outputs": [],
   "source": [
    "# Load data here\n",
    "data = load_data('sample_diabetes_mellitus_data.csv')"
   ]
  },
  {
   "cell_type": "code",
   "execution_count": null,
   "id": "cca48e25",
   "metadata": {},
   "outputs": [],
   "source": [
    "preprocessed_data = preprocess_data(data)"
   ]
  },
  {
   "cell_type": "code",
   "execution_count": null,
   "id": "e7ff1ba6",
   "metadata": {},
   "outputs": [],
   "source": [
    "model = train_model(train_data)"
   ]
  },
  {
   "cell_type": "code",
   "execution_count": null,
   "id": "f0a3b026",
   "metadata": {},
   "outputs": [],
   "source": [
    "train_data, test_data, train_roc_auc, test_roc_auc = predict_and_evaluate(model, train_data, test_data)"
   ]
  },
  {
   "cell_type": "code",
   "execution_count": null,
   "id": "a3325b29",
   "metadata": {},
   "outputs": [],
   "source": [
    "print(\"Train ROC AUC: \", train_roc_auc)\n",
    "print(\"Test ROC AUC: \",test_roc_auc)"
   ]
  }
 ],
 "metadata": {
  "kernelspec": {
   "display_name": "Python 3 (ipykernel)",
   "language": "python",
   "name": "python3"
  },
  "language_info": {
   "codemirror_mode": {
    "name": "ipython",
    "version": 3
   },
   "file_extension": ".py",
   "mimetype": "text/x-python",
   "name": "python",
   "nbconvert_exporter": "python",
   "pygments_lexer": "ipython3",
   "version": "3.8.5"
  }
 },
 "nbformat": 4,
 "nbformat_minor": 5
}
